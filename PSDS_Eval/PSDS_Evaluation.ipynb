{
 "cells": [
  {
   "cell_type": "markdown",
   "metadata": {},
   "source": [
    "## Introduction\n",
    "This jupyter notebook aims to explain the different evaluation metrics used in the [DCASE 2021 Task 4](http://dcase.community/challenge2021/task-sound-event-detection-and-separation-in-domestic-environments). \n",
    "\n",
    "The functions, files and predictions used in this jupyter notebook are the ones used in the baseline code. "
   ]
  },
  {
   "cell_type": "markdown",
   "metadata": {},
   "source": [
    "\n",
    "## Polyphonic and monophonic sound event detection\n",
    "\n",
    "The task of sound event detection could be evaluated in different ways and there is not a generally accepted metric  for evaluating the system. \n",
    " \n",
    "In general, the evaluation of the system is performed by comparing the system output (the detections) with the reference available for the test data (the ground-truth). Usually, the comparison between the detections and the ground-truth is done in fixed length intervals, known as **segment-based metrics** or at event-instance level, also knows as **event-based metrics**. \n",
    "- ***Segment-based metrics***: comparing system output and reference in short time segments, where the lenght of the time interval can be chosen based on the desired resolution needed for the application.\n",
    "- ***Event-based metrics***: comparing system output and reference event by event. The tolerance between two events can be chosen depending on the desired resolution, usually choosing a collar value depending on the lenght of the shortest and longest event. \n",
    "\n",
    "The statistics can be aggregated in different ways: \n",
    "- ***Instance-based averaging***: each individual decision has equal weight. This average is also knows as micro-averaging. \n",
    "- ***Class-based averaging***: every class has equal weight. This average is also knows as macro-averaging. \n",
    "\n",
    "For more information regarding the metrics for polyphonic evaluation please refer to [[1]](#References). "
   ]
  },
  {
   "cell_type": "markdown",
   "metadata": {},
   "source": [
    "## Intersection-based metrics\n",
    "\n",
    "Each measure focuses on a different aspect of the system and it is not easy to raise a single clear conclusion about the performance of the system. In fact, using a single measure leads to an incomplete analysis of the system.\n",
    "One solution could be to use a number of different metrics, in order to provide views of multiple aspects. \n",
    "It should be necessary to agree on a performance criterion when multiple systems are compared between each other.\n",
    "\n",
    "Moreover, the following issues are ignored when using the aforementioned metrics:\n",
    "- **Dependency on the operating point**: using different decision thresholds under the same metric for the same system may lead to different rankings. \n",
    "- **Definition of sound events**: event-based metrics are based on collars, the use of which emphasize the start and end times of sound events, while these times can be subjective among human labelers. Consequently, the evaluation criterion choosen should allow interpretation of the temporal structure of both the ground truth and the detection timings.\n",
    "- **Prior probabilities, false-positives and cross-triggers in multi-class systems**: cross-triggers (CTs) are the subset of false positives which match another labelled class of the multi-class system. Distinguishing the behavior of CTs from the FPs can provide insight into data biases, particularly for sound classes which are acoustically similar. Indeed, if the amount of data required for reliable evaluation of the TPs for a particular target classes is incompatible with field priors, multi-class evaluation datasets may become biased. \n",
    "\n",
    "With the aim to overcome the limits mentionated above, [[2]](#References)\n",
    "introduces the ***intersection criterion*** approach, driving to a new more robust definition of the TPs and FPs, and cross-triggers (CTs) in the context of polyphonic SED. The novel method considers the amount of overlap between the ground truth and the detections of the system.\n",
    "In this way, both merged detections and interrupted detection can be supported, the evaluation is invariant to the time scale of the event durations, and its properties provide the flexibility needed to handle subjective labeling and to avoid event duration biases. \n",
    "The minimum amount of overlap required to validate the detections against the annotations is parameterized by three intersection ratios: the ***Detection Tolerance Criterion (DTC)***, ***the Ground Truth intersection Criterion (GTC)*** and the ***Cross-Trigger Tolerance Criterion (CTTC)***.\n",
    "\n",
    "The figure below shows the differences between event-based, segment-based and intersection-based metrics. \n",
    "<img src=\"img/Metrics.png\" alt=\"metrics computation\" style=\"width: 75%;\"/>\n",
    "\n",
    "As seen in the figure, using different metrics results in different results. Depending on the application and the different cases, could make more sense to use one metric over another, or to use more than one metric simultaneously. "
   ]
  },
  {
   "cell_type": "markdown",
   "metadata": {},
   "source": [
    "## Polyphonic Sound Detection Score (PSDS)\n",
    "\n",
    "Furthermore, the definition of the intersection criteria leads to new definitions of event-based ROC curve called **Polyphonic Sound Detection ROC (PSD-ROC) curve** and **Polyphonic Sound Detection Score (PSDS)**.\n",
    "\n",
    "Depending on the values of the three intersection ratios (Detection Tolerance Criterion (DTC), the Ground Truth intersection Criterion (GTC) and the Cross-Trigger Tolerance Criterion (CTTC)), PSDS can be adjusted to have a similar level of constraints to segment-based or event-based evaluations and it can provide the advantages of both approaches, defining one or more scenarios according to the constraints and characteristics needed for each application. \n",
    "\n",
    "PSDS is global across a set of operating points, rather than depending on a single operating point chosen a priori for each submitted system as implied by the F1-score. Therefore PSDS prevents from erroneous conclusion that a system performs better at sound event detection than another one where, instead, the difference relies on a different choice of system sensitivity tuning.\n",
    "\n",
    "More information regarding PSDS metrics and on how it works can bee found at this Jupyter Notebook [[4]](#References). \n",
    "\n",
    "More information regarding the ratios and PSDS can be found at [[2]](#References) and [[3]](#References). "
   ]
  },
  {
   "cell_type": "markdown",
   "metadata": {},
   "source": [
    "## Hands-on\n",
    "\n",
    "### Event-based and segment-based metrics\n",
    "Let's see in practice how to calculate the different metrics, the differences between them, and how to define different scenarios using PSDS and the relative results.\n",
    "\n",
    "We will use the predictions from the baseline, which are saved inside the folder `meta`. \n",
    "\n",
    "First, let's import all the modules needed to run the code, and let's define the functions needed to calculate the metrics. The functions used in this jupyter notebook are the same functions used in the baseline."
   ]
  },
  {
   "cell_type": "code",
   "execution_count": 1,
   "metadata": {},
   "outputs": [],
   "source": [
    "import os\n",
    "import sed_eval \n",
    "import pandas as pd\n",
    "import numpy as np\n",
    "\n",
    "import warnings\n",
    "warnings.filterwarnings(\"ignore\")"
   ]
  },
  {
   "cell_type": "markdown",
   "metadata": {},
   "source": [
    "We will first define all the functions that we will need to evaluate the system and calculate the metrics. "
   ]
  },
  {
   "cell_type": "markdown",
   "metadata": {},
   "source": [
    "The function `get_event_list_current_file` gets the list of events present in a given filename and return it as dataframe."
   ]
  },
  {
   "cell_type": "code",
   "execution_count": 2,
   "metadata": {},
   "outputs": [],
   "source": [
    "def get_event_list_current_file(df, fname):\n",
    "    \"\"\"\n",
    "    Get list of events for a given filename\n",
    "    Args:\n",
    "        df: pd.DataFrame, the dataframe to search on\n",
    "        fname: the filename to extract the value from the dataframe\n",
    "    Returns:\n",
    "         list of events (dictionaries) for the given filename\n",
    "    \"\"\"\n",
    "    event_file = df[df[\"filename\"] == fname]\n",
    "    if len(event_file) == 1:\n",
    "        if pd.isna(event_file[\"event_label\"].iloc[0]):\n",
    "            event_list_for_current_file = [{\"filename\": fname}]\n",
    "        else:\n",
    "            event_list_for_current_file = event_file.to_dict(\"records\")\n",
    "    else:\n",
    "        event_list_for_current_file = event_file.to_dict(\"records\")\n",
    "\n",
    "    return event_list_for_current_file"
   ]
  },
  {
   "cell_type": "markdown",
   "metadata": {},
   "source": [
    "The function `event_based_evaluation_df` calculates the event-based metric. It receives the reference and estimated dataframe as input. "
   ]
  },
  {
   "cell_type": "code",
   "execution_count": 3,
   "metadata": {},
   "outputs": [],
   "source": [
    "def event_based_evaluation_df(\n",
    "    reference, estimated, t_collar=0.200, percentage_of_length=0.2\n",
    "):\n",
    "    \"\"\" Calculate EventBasedMetric given a reference and estimated dataframe\n",
    "\n",
    "    Args:\n",
    "        reference: pd.DataFrame containing \"filename\" \"onset\" \"offset\" and \"event_label\" columns which describe the\n",
    "            reference events\n",
    "        estimated: pd.DataFrame containing \"filename\" \"onset\" \"offset\" and \"event_label\" columns which describe the\n",
    "            estimated events to be compared with reference\n",
    "        t_collar: float, in seconds, the number of time allowed on onsets and offsets\n",
    "        percentage_of_length: float, between 0 and 1, the percentage of length of the file allowed on the offset\n",
    "    Returns:\n",
    "         sed_eval.sound_event.EventBasedMetrics with the scores\n",
    "    \"\"\"\n",
    "    evaluated_files = reference[\"filename\"].unique()\n",
    "\n",
    "    classes = []\n",
    "    classes.extend(reference.event_label.dropna().unique())\n",
    "    classes.extend(estimated.event_label.dropna().unique())\n",
    "    classes = list(set(classes))\n",
    "\n",
    "    event_based_metric = sed_eval.sound_event.EventBasedMetrics(\n",
    "        event_label_list=classes,\n",
    "        t_collar=t_collar,\n",
    "        percentage_of_length=percentage_of_length,\n",
    "        empty_system_output_handling=\"zero_score\",\n",
    "    )\n",
    "\n",
    "    for fname in evaluated_files:\n",
    "        reference_event_list_for_current_file = get_event_list_current_file(\n",
    "            reference, fname\n",
    "        )\n",
    "        estimated_event_list_for_current_file = get_event_list_current_file(\n",
    "            estimated, fname\n",
    "        )\n",
    "\n",
    "        event_based_metric.evaluate(\n",
    "            reference_event_list=reference_event_list_for_current_file,\n",
    "            estimated_event_list=estimated_event_list_for_current_file,\n",
    "        )\n",
    "\n",
    "    return event_based_metric"
   ]
  },
  {
   "cell_type": "markdown",
   "metadata": {},
   "source": [
    "The function `segment_based_evaluation_df` calculates the segment-based metric. It receives the reference and estimated dataframe as input."
   ]
  },
  {
   "cell_type": "code",
   "execution_count": 4,
   "metadata": {},
   "outputs": [],
   "source": [
    "def segment_based_evaluation_df(reference, estimated, time_resolution=1.0):\n",
    "    \"\"\" Calculate SegmentBasedMetrics given a reference and estimated dataframe\n",
    "\n",
    "        Args:\n",
    "            reference: pd.DataFrame containing \"filename\" \"onset\" \"offset\" and \"event_label\" columns which describe the\n",
    "                reference events\n",
    "            estimated: pd.DataFrame containing \"filename\" \"onset\" \"offset\" and \"event_label\" columns which describe the\n",
    "                estimated events to be compared with reference\n",
    "            time_resolution: float, the time resolution of the segment based metric\n",
    "        Returns:\n",
    "             sed_eval.sound_event.SegmentBasedMetrics with the scores\n",
    "        \"\"\"\n",
    "    evaluated_files = reference[\"filename\"].unique()\n",
    "\n",
    "    classes = []\n",
    "    classes.extend(reference.event_label.dropna().unique())\n",
    "    classes.extend(estimated.event_label.dropna().unique())\n",
    "    classes = list(set(classes))\n",
    "\n",
    "    segment_based_metric = sed_eval.sound_event.SegmentBasedMetrics(\n",
    "        event_label_list=classes, time_resolution=time_resolution\n",
    "    )\n",
    "\n",
    "    for fname in evaluated_files:\n",
    "        reference_event_list_for_current_file = get_event_list_current_file(\n",
    "            reference, fname\n",
    "        )\n",
    "        estimated_event_list_for_current_file = get_event_list_current_file(\n",
    "            estimated, fname\n",
    "        )\n",
    "\n",
    "        segment_based_metric.evaluate(\n",
    "            reference_event_list=reference_event_list_for_current_file,\n",
    "            estimated_event_list=estimated_event_list_for_current_file,\n",
    "        )\n",
    "\n",
    "    return segment_based_metric"
   ]
  },
  {
   "cell_type": "markdown",
   "metadata": {},
   "source": [
    "The function `compute_sed_eval_metric` computes the event-based and segment-based metrics. The default parameters of the task are used for the calculation of the metrics."
   ]
  },
  {
   "cell_type": "code",
   "execution_count": 5,
   "metadata": {},
   "outputs": [],
   "source": [
    "def compute_sed_eval_metrics(predictions, groundtruth):\n",
    "    \"\"\" Compute sed_eval metrics event based and segment based with default parameters used in the task.\n",
    "    Args:\n",
    "        predictions: pd.DataFrame, predictions dataframe\n",
    "        groundtruth: pd.DataFrame, groundtruth dataframe\n",
    "    Returns:\n",
    "        tuple, (sed_eval.sound_event.EventBasedMetrics, sed_eval.sound_event.SegmentBasedMetrics)\n",
    "    \"\"\"\n",
    "    metric_event = event_based_evaluation_df(\n",
    "        groundtruth, predictions, t_collar=0.200, percentage_of_length=0.2\n",
    "    )\n",
    "    metric_segment = segment_based_evaluation_df(\n",
    "        groundtruth, predictions, time_resolution=1.0\n",
    "    )\n",
    "\n",
    "    return metric_event, metric_segment"
   ]
  },
  {
   "cell_type": "markdown",
   "metadata": {},
   "source": [
    "All the functions that will be needed to calculate the metrics have been defined.\n",
    "\n",
    "Now, let's read the ground-truth labels and save them in the `gt` dataframe. "
   ]
  },
  {
   "cell_type": "code",
   "execution_count": 6,
   "metadata": {},
   "outputs": [
    {
     "data": {
      "text/html": [
       "<div>\n",
       "<style scoped>\n",
       "    .dataframe tbody tr th:only-of-type {\n",
       "        vertical-align: middle;\n",
       "    }\n",
       "\n",
       "    .dataframe tbody tr th {\n",
       "        vertical-align: top;\n",
       "    }\n",
       "\n",
       "    .dataframe thead th {\n",
       "        text-align: right;\n",
       "    }\n",
       "</style>\n",
       "<table border=\"1\" class=\"dataframe\">\n",
       "  <thead>\n",
       "    <tr style=\"text-align: right;\">\n",
       "      <th></th>\n",
       "      <th>filename</th>\n",
       "      <th>onset</th>\n",
       "      <th>offset</th>\n",
       "      <th>event_label</th>\n",
       "    </tr>\n",
       "  </thead>\n",
       "  <tbody>\n",
       "    <tr>\n",
       "      <th>0</th>\n",
       "      <td>Y00pbt6aJV8Y_350.000_360.000.wav</td>\n",
       "      <td>0.00</td>\n",
       "      <td>9.971</td>\n",
       "      <td>Vacuum_cleaner</td>\n",
       "    </tr>\n",
       "    <tr>\n",
       "      <th>1</th>\n",
       "      <td>Y00pK0GMmE9s_70.000_80.000.wav</td>\n",
       "      <td>0.00</td>\n",
       "      <td>10.000</td>\n",
       "      <td>Vacuum_cleaner</td>\n",
       "    </tr>\n",
       "    <tr>\n",
       "      <th>2</th>\n",
       "      <td>Y02sD1KJeoGA_50.000_60.000.wav</td>\n",
       "      <td>0.00</td>\n",
       "      <td>10.000</td>\n",
       "      <td>Frying</td>\n",
       "    </tr>\n",
       "    <tr>\n",
       "      <th>3</th>\n",
       "      <td>Y0bjUq9XMMmQ_30.000_40.000.wav</td>\n",
       "      <td>0.00</td>\n",
       "      <td>10.000</td>\n",
       "      <td>Frying</td>\n",
       "    </tr>\n",
       "    <tr>\n",
       "      <th>4</th>\n",
       "      <td>Y0cH_NlhhMAs_30.000_40.000.wav</td>\n",
       "      <td>1.71</td>\n",
       "      <td>6.005</td>\n",
       "      <td>Cat</td>\n",
       "    </tr>\n",
       "  </tbody>\n",
       "</table>\n",
       "</div>"
      ],
      "text/plain": [
       "                           filename  onset  offset     event_label\n",
       "0  Y00pbt6aJV8Y_350.000_360.000.wav   0.00   9.971  Vacuum_cleaner\n",
       "1    Y00pK0GMmE9s_70.000_80.000.wav   0.00  10.000  Vacuum_cleaner\n",
       "2    Y02sD1KJeoGA_50.000_60.000.wav   0.00  10.000          Frying\n",
       "3    Y0bjUq9XMMmQ_30.000_40.000.wav   0.00  10.000          Frying\n",
       "4    Y0cH_NlhhMAs_30.000_40.000.wav   1.71   6.005             Cat"
      ]
     },
     "execution_count": 6,
     "metadata": {},
     "output_type": "execute_result"
    }
   ],
   "source": [
    "# read ground truth labels and save them in the gt dataframe\n",
    "ground_truth_file=\"meta/validation.tsv\"\n",
    "gt = pd.read_csv(ground_truth_file, sep=\"\\t\")\n",
    "gt.head() # will print only the 5 rows of the gt dataframe"
   ]
  },
  {
   "cell_type": "markdown",
   "metadata": {},
   "source": [
    "The ground truth labels have been saved in the `gt` dataframe. "
   ]
  },
  {
   "cell_type": "markdown",
   "metadata": {},
   "source": [
    "We will focus only on the metrics related to the **student** system. If you want to consider the metrics for the teacher as well, you can follow the same process replacing the student predictions with the teacher predictions, which you will find in the `meta` folder. \n",
    "\n",
    "We will first calculate the **event-based F1-score** and the **segmentation-based F1-score**, so at this stage, we will only need the predictions considering a threshold of 0.5. \n",
    "\n",
    "Let's read the ground-truth labels and save them in the `preds_s` dataframe."
   ]
  },
  {
   "cell_type": "code",
   "execution_count": 7,
   "metadata": {},
   "outputs": [
    {
     "data": {
      "text/html": [
       "<div>\n",
       "<style scoped>\n",
       "    .dataframe tbody tr th:only-of-type {\n",
       "        vertical-align: middle;\n",
       "    }\n",
       "\n",
       "    .dataframe tbody tr th {\n",
       "        vertical-align: top;\n",
       "    }\n",
       "\n",
       "    .dataframe thead th {\n",
       "        text-align: right;\n",
       "    }\n",
       "</style>\n",
       "<table border=\"1\" class=\"dataframe\">\n",
       "  <thead>\n",
       "    <tr style=\"text-align: right;\">\n",
       "      <th></th>\n",
       "      <th>event_label</th>\n",
       "      <th>onset</th>\n",
       "      <th>offset</th>\n",
       "      <th>filename</th>\n",
       "    </tr>\n",
       "  </thead>\n",
       "  <tbody>\n",
       "    <tr>\n",
       "      <th>0</th>\n",
       "      <td>Vacuum_cleaner</td>\n",
       "      <td>0.000</td>\n",
       "      <td>9.984</td>\n",
       "      <td>Y00pbt6aJV8Y_350.000_360.000.wav</td>\n",
       "    </tr>\n",
       "    <tr>\n",
       "      <th>1</th>\n",
       "      <td>Vacuum_cleaner</td>\n",
       "      <td>0.000</td>\n",
       "      <td>9.984</td>\n",
       "      <td>Y00pK0GMmE9s_70.000_80.000.wav</td>\n",
       "    </tr>\n",
       "    <tr>\n",
       "      <th>2</th>\n",
       "      <td>Frying</td>\n",
       "      <td>0.000</td>\n",
       "      <td>9.984</td>\n",
       "      <td>Y02sD1KJeoGA_50.000_60.000.wav</td>\n",
       "    </tr>\n",
       "    <tr>\n",
       "      <th>3</th>\n",
       "      <td>Running_water</td>\n",
       "      <td>2.112</td>\n",
       "      <td>3.584</td>\n",
       "      <td>Y0bjUq9XMMmQ_30.000_40.000.wav</td>\n",
       "    </tr>\n",
       "    <tr>\n",
       "      <th>4</th>\n",
       "      <td>Running_water</td>\n",
       "      <td>3.968</td>\n",
       "      <td>9.984</td>\n",
       "      <td>Y0bjUq9XMMmQ_30.000_40.000.wav</td>\n",
       "    </tr>\n",
       "  </tbody>\n",
       "</table>\n",
       "</div>"
      ],
      "text/plain": [
       "      event_label  onset  offset                          filename\n",
       "0  Vacuum_cleaner  0.000   9.984  Y00pbt6aJV8Y_350.000_360.000.wav\n",
       "1  Vacuum_cleaner  0.000   9.984    Y00pK0GMmE9s_70.000_80.000.wav\n",
       "2          Frying  0.000   9.984    Y02sD1KJeoGA_50.000_60.000.wav\n",
       "3   Running_water  2.112   3.584    Y0bjUq9XMMmQ_30.000_40.000.wav\n",
       "4   Running_water  3.968   9.984    Y0bjUq9XMMmQ_30.000_40.000.wav"
      ]
     },
     "execution_count": 7,
     "metadata": {},
     "output_type": "execute_result"
    }
   ],
   "source": [
    "# read ground truth labels and save them in the preds_s dataframe\n",
    "predictions_student_file=\"meta/metrics_test/student/predictions0.5.csv\"\n",
    "preds_s = pd.read_csv(predictions_student_file, index_col=0)\n",
    "preds_s.head() # will print only the first 5 rows of the preds_s dataframe"
   ]
  },
  {
   "cell_type": "markdown",
   "metadata": {},
   "source": [
    "Now we can compute the event-based and the segment-based metrics using the functions thta we declared before and we can save the metrics in the folder specified as `save_dir`. The files `event_f1.txt` and `segment_f1.txt` report more information regarding the metrics. Check them out. \n",
    "\n",
    "Let's calculate the event-based and segment-based metrics."
   ]
  },
  {
   "cell_type": "code",
   "execution_count": 8,
   "metadata": {},
   "outputs": [],
   "source": [
    "# calculate event-based and segment-based metrics\n",
    "save_dir=\"meta/metrics_test/student\"\n",
    "\n",
    "event_metrics_s, segment_metrics_s = compute_sed_eval_metrics(preds_s, gt)\n",
    "\n",
    "with open(os.path.join(save_dir, \"event_f1.txt\"), \"w\") as f:\n",
    "    f.write(str(event_metrics_s))\n",
    "\n",
    "with open(os.path.join(save_dir, \"segment_f1.txt\"), \"w\") as f:\n",
    "    f.write(str(segment_metrics_s))"
   ]
  },
  {
   "cell_type": "markdown",
   "metadata": {},
   "source": [
    "#### Event-based metrics"
   ]
  },
  {
   "cell_type": "code",
   "execution_count": 9,
   "metadata": {},
   "outputs": [
    {
     "name": "stdout",
     "output_type": "stream",
     "text": [
      "Event-based metric class-wise average metrics (macro average) 39.83%\n",
      "Event-based metric overall metrics (micro average) 40.92%\n"
     ]
    }
   ],
   "source": [
    "print(\"Event-based metric class-wise average metrics (macro average) {:.2f}%\".format(event_metrics_s.results()[\"class_wise_average\"][\"f_measure\"][\"f_measure\"] * 100))\n",
    "print(\"Event-based metric overall metrics (micro average) {:.2f}%\".format(event_metrics_s.results()[\"overall\"][\"f_measure\"][\"f_measure\"] * 100))"
   ]
  },
  {
   "cell_type": "markdown",
   "metadata": {},
   "source": [
    "#### Segment-based metrics"
   ]
  },
  {
   "cell_type": "code",
   "execution_count": 10,
   "metadata": {},
   "outputs": [
    {
     "name": "stdout",
     "output_type": "stream",
     "text": [
      "Segment-based metric class-wise average metrics (macro average) 69.35%\n",
      "Segment-based metric overall metrics (micro average) 75.47%\n"
     ]
    }
   ],
   "source": [
    "print(\"Segment-based metric class-wise average metrics (macro average) {:.2f}%\".format(segment_metrics_s.results()[\"class_wise_average\"][\"f_measure\"][\"f_measure\"] * 100)) \n",
    "print(\"Segment-based metric overall metrics (micro average) {:.2f}%\".format(segment_metrics_s.results()[\"overall\"][\"f_measure\"][\"f_measure\"] * 100))"
   ]
  },
  {
   "cell_type": "markdown",
   "metadata": {},
   "source": [
    "As we would expect and as we can see from the results, the segment-based metrics are more lenient compared to the event-based metrics, resulting in higher performances. As we discussed before, the segment-based metric compares system output and reference in short time segments while the event-based metric compares system output and reference event by event giving less tolerance to the system. "
   ]
  },
  {
   "cell_type": "markdown",
   "metadata": {},
   "source": [
    "### Intersection-based metrics\n",
    "\n",
    "Let's now analyse the **intersection-based metric**. In order to do this, we will need to import some modules more and to define the relative functions. Also in this case, the functions are the same used in the baseline code."
   ]
  },
  {
   "cell_type": "code",
   "execution_count": 11,
   "metadata": {},
   "outputs": [],
   "source": [
    "import psds_eval\n",
    "from psds_eval import PSDSEval, plot_per_class_psd_roc"
   ]
  },
  {
   "cell_type": "markdown",
   "metadata": {},
   "source": [
    "The function `compute_per_intersection_macro_f1` computes F1-score per intersection, using the default values."
   ]
  },
  {
   "cell_type": "code",
   "execution_count": 12,
   "metadata": {},
   "outputs": [],
   "source": [
    "def compute_per_intersection_macro_f1(\n",
    "    preds,\n",
    "    gt,\n",
    "    durations,\n",
    "    dtc_threshold=0.5,\n",
    "    gtc_threshold=0.5,\n",
    "    cttc_threshold=0.3,\n",
    "):\n",
    "    \"\"\" Compute F1-score per intersection, using the default\n",
    "    Args:\n",
    "        prediction_dfs: dict, a dictionary with thresholds keys and predictions dataframe\n",
    "        ground_truth_file: pd.DataFrame, the groundtruth dataframe\n",
    "        durations_file: pd.DataFrame, the duration dataframe\n",
    "        dtc_threshold: float, the parameter used in PSDSEval, percentage of tolerance for groundtruth intersection\n",
    "            with predictions\n",
    "        gtc_threshold: float, the parameter used in PSDSEval percentage of tolerance for predictions intersection\n",
    "            with groundtruth\n",
    "        gtc_threshold: float, the parameter used in PSDSEval to know the percentage needed to count FP as cross-trigger\n",
    "\n",
    "    Returns:\n",
    "\n",
    "    \"\"\"\n",
    "\n",
    "    psds = PSDSEval(\n",
    "        ground_truth=gt,\n",
    "        metadata=durations,\n",
    "        dtc_threshold=dtc_threshold,\n",
    "        gtc_threshold=gtc_threshold,\n",
    "        cttc_threshold=cttc_threshold,\n",
    "    ) \n",
    "    \n",
    "    psds_macro_f1 = []\n",
    "    \n",
    "    if not preds.empty:\n",
    "        threshold_f1, _ = psds.compute_macro_f_score(preds)\n",
    "    else:\n",
    "        threshold_f1 = 0\n",
    "    if np.isnan(threshold_f1):\n",
    "        threshold_f1 = 0.0\n",
    "\n",
    "    psds_macro_f1.append(threshold_f1)\n",
    "    \n",
    "    psds_macro_f1 = np.mean(psds_macro_f1)\n",
    "    return psds_macro_f1"
   ]
  },
  {
   "cell_type": "markdown",
   "metadata": {},
   "source": [
    "In order to properly calculate the metrics based on the intersection of the events, it is necessary to know the durations of them, so they will be retrieved and saved in the `durations` dataframe. \n",
    "After that, the function `compute_per_intersection_macro_f1` will be called to calculate the metric. "
   ]
  },
  {
   "cell_type": "code",
   "execution_count": 13,
   "metadata": {},
   "outputs": [
    {
     "name": "stdout",
     "output_type": "stream",
     "text": [
      "Intersection-based F-score student 63.74%\n"
     ]
    }
   ],
   "source": [
    "# retrieve durations event metadata\n",
    "durations = pd.read_csv(\"meta/validation_durations.tsv\", sep=\"\\t\")\n",
    "\n",
    "# intersection-based metric\n",
    "psds_macro_f1_s = compute_per_intersection_macro_f1(preds_s, gt, durations)\n",
    "print(\"Intersection-based F-score student {:.2f}%\".format(psds_macro_f1_s * 100))"
   ]
  },
  {
   "cell_type": "markdown",
   "metadata": {},
   "source": [
    "### Summary  \n",
    "\n",
    "The following table summarized the different F-score metrics analyzed so far for the student model of the baseline and depending on the event matching criterion. \n",
    "\n",
    "#### <center>Student metrics<center>\n",
    "| Event-based (macro average)| Event-based (micro average) | Segment-based (macro average)| Segment-based (micro average)| Intersection |\n",
    "| :-: | :-: | :-: | :-: | :-: |\n",
    "| 39.83% | 40.92% | 69.35% | 75.47% | 63.74%"
   ]
  },
  {
   "cell_type": "markdown",
   "metadata": {},
   "source": [
    "## PSDS and the two different scenario of the baseline \n",
    "\n",
    "As already discussed, depending on the values of the three intersection ratios (DTC, GTC Tolerance Criterion CTTC), PSDS can be adjusted to have different level of constraints and it can provide the advantages of defining one or more scenarios according to the constraints and characteristics needed for each application. \n",
    "\n",
    "For a better evaluation of the system and to better understand the behavior of each submission, two different scenarios as been proposed for the DCASE 2021 Task 4, each of which emphasize different systems properties.\n",
    "\n",
    "#### Scenario 1\n",
    "\n",
    "The system needs to react fast upon an event detection (e.g. to trigger an alarm, adapt home automation system...). The localization of the sound event is then really important. The PSDS parameters reflecting these needs are:\n",
    "\n",
    "- Detection Tolerance criterion (DTC): 0.7\n",
    "- Ground Truth intersection criterion (GTC): 0.7\n",
    "- Cost of instability across class (αST): 1\n",
    "- Cost of CTs on user experience (αCT): 0\n",
    "- Maximum False Positive rate (e_max): 100\n",
    "\n",
    "\n",
    "This is the strictest scenario between the two, imposing high DTC and GTC. These values guarantee constraints in time in the intersection between reference and detection in order for the detection to be considered true positive. It does not allow to have instability between classes and the cross-triggers are not considered in this scenario.\n",
    "\n",
    "#### Scenario 2\n",
    "\n",
    "The system must avoid confusing between classes but the reaction time is less crucial than in the first scenario. The PSDS parameters reflecting these needs are:\n",
    "\n",
    "- Detection Tolerance criterion (DTC): 0.1\n",
    "- Ground Truth intersection criterion (GTC): 0.1\n",
    "- Cost of instability across class (αST): 1\n",
    "- Cross-Trigger Tolerance criterion (cttc): 0.3\n",
    "- Cost of CTs on user experience (αCT): 0.5\n",
    "- Maximum False Positive rate (e_max): 100\n",
    "\n",
    "This system is more permissive compared to the previous one, having lower DTC and GTC values. In this case, there is still the need of having an intersection between reference and detection but the system is less severe in terms of time and duration of intersection between the two. Also, in this case, instability between classes is not allowed but the cross-triggers are considered less critical, so the system permits to take them into account, recognizing that the system is able to detect an event."
   ]
  },
  {
   "cell_type": "markdown",
   "metadata": {},
   "source": [
    "## Scenario 1 and Scenario 2 in practice"
   ]
  },
  {
   "cell_type": "code",
   "execution_count": 14,
   "metadata": {},
   "outputs": [],
   "source": [
    "import glob\n",
    "import os.path as osp\n",
    "from psds_eval import plot_psd_roc\n",
    "import matplotlib.pyplot as plt"
   ]
  },
  {
   "cell_type": "markdown",
   "metadata": {},
   "source": [
    "Let's define the functions that will be needed to define the different scenarios. The functions are the same as the baseline, with some small modifications. In particular, in the following function, since the prediction files are directly retrieved, the dataframe already contains all the columns needed to calculate the PSDS, so the two lines which would add the index column to the dataframe (as the baseline code does) are commented in the following cell. \n",
    "Please, see issue https://github.com/audioanalytic/psds_eval/issues/3 for more information. \n",
    "\n",
    "In the following function, we also return `psds_eval` (which is not returned is the baseline code) since would be necessary to show the impact of the different scenario for each class. \n",
    "\n",
    "The third difference is that there is no need to save the predictions so we have removed this part from the function. \n",
    "\n",
    "Also in this case, we will consider only the **student** metrics. If you want to consider the metrics for the teacher as well, you can follow the same process replacing the student predictions with the teacher predictions, which you will find in the `meta` folder as well. "
   ]
  },
  {
   "cell_type": "markdown",
   "metadata": {},
   "source": [
    "The function `compute_psds_from_operating_points` computes the PSDS metric from operating points. Different values of input parameters could be specified in order to defined different scenarios. "
   ]
  },
  {
   "cell_type": "code",
   "execution_count": 15,
   "metadata": {},
   "outputs": [],
   "source": [
    "def compute_psds_from_operating_points(\n",
    "    prediction_dfs,\n",
    "    gt,\n",
    "    durations,\n",
    "    dtc_threshold=0.5,\n",
    "    gtc_threshold=0.5,\n",
    "    cttc_threshold=0.3,\n",
    "    alpha_ct=0,\n",
    "    alpha_st=0,\n",
    "    max_efpr=100,\n",
    "    save_dir=None,\n",
    "):\n",
    "\n",
    "    psds_eval = PSDSEval(\n",
    "        ground_truth=gt,\n",
    "        metadata=durations,\n",
    "        dtc_threshold=dtc_threshold,\n",
    "        gtc_threshold=gtc_threshold,\n",
    "        cttc_threshold=cttc_threshold,\n",
    "    )\n",
    "    \n",
    "    \n",
    "\n",
    "    for i, k in enumerate(prediction_dfs.keys()):\n",
    "        k = round(k, 2)\n",
    "        det = prediction_dfs[k]\n",
    "        # see issue https://github.com/audioanalytic/psds_eval/issues/3\n",
    "        #det[\"index\"] = range(1, len(det) + 1)\n",
    "        #det = det.set_index(\"index\")\n",
    "        psds_eval.add_operating_point(\n",
    "            det, info={\"name\": f\"Op {i + 1:02d}\", \"threshold\": k}\n",
    "        )\n",
    "\n",
    "    psds_score = psds_eval.psds(alpha_ct=alpha_ct, alpha_st=alpha_st, max_efpr=max_efpr)\n",
    "\n",
    "    return psds_score, psds_eval"
   ]
  },
  {
   "cell_type": "markdown",
   "metadata": {},
   "source": [
    "Let's collect all the predictions for each operating point and save them in `test_psds_buffer_student`, which is\n",
    "a dictionary of dataframe, one for each operating point.  "
   ]
  },
  {
   "cell_type": "code",
   "execution_count": 16,
   "metadata": {},
   "outputs": [],
   "source": [
    "# taking all the predictions for each operating point and save them in a dictionary of dataframee\n",
    "test_n_thresholds = 50\n",
    "\n",
    "test_thresholds = np.arange(\n",
    "    1 / (test_n_thresholds * 2), 1, 1 / test_n_thresholds\n",
    ")\n",
    "\n",
    "test_psds_buffer_student = {k: pd.DataFrame() for k in test_thresholds}\n",
    "\n",
    "\n",
    "for i, tsv in enumerate(glob.glob(osp.join(\"meta/metrics_test/student/predictions_operating_points/*.tsv\"))):\n",
    "    threshold = float(\"0.\" + tsv.split(\".\")[-2])\n",
    "    test_psds_buffer_student[threshold] = pd.read_csv(tsv, sep=\"\\t\")"
   ]
  },
  {
   "cell_type": "markdown",
   "metadata": {},
   "source": [
    "Let's calculate the PSDS metrics for the two scenarios defined for the DCASE 2021 Task 4."
   ]
  },
  {
   "cell_type": "code",
   "execution_count": 17,
   "metadata": {},
   "outputs": [
    {
     "name": "stdout",
     "output_type": "stream",
     "text": [
      "Psds scenario 1 student: 0.334\n",
      "Psds scenario 2 student: 0.533\n"
     ]
    }
   ],
   "source": [
    "# psds scenario 1\n",
    "psds_scenario1_s, psds_eval_scen1 = compute_psds_from_operating_points(\n",
    "    test_psds_buffer_student, \n",
    "    gt, \n",
    "    durations, \n",
    "    dtc_threshold=0.7,\n",
    "    gtc_threshold=0.7,\n",
    "    alpha_ct=0,\n",
    "    alpha_st=1\n",
    ")\n",
    "\n",
    "# psds scenario 2\n",
    "psds_scenario2_s, psds_eval_scen2 = compute_psds_from_operating_points(\n",
    "            test_psds_buffer_student, \n",
    "            gt, \n",
    "            durations,\n",
    "            dtc_threshold=0.1,\n",
    "            gtc_threshold=0.1,\n",
    "            cttc_threshold=0.3,\n",
    "            alpha_ct=0.5,\n",
    "            alpha_st=1\n",
    "        )\n",
    "\n",
    "print(\"Psds scenario 1 student: {:.3f}\".format(psds_scenario1_s.value))\n",
    "print(\"Psds scenario 2 student: {:.3f}\".format(psds_scenario2_s.value))"
   ]
  },
  {
   "cell_type": "code",
   "execution_count": 18,
   "metadata": {},
   "outputs": [
    {
     "name": "stdout",
     "output_type": "stream",
     "text": [
      "Scenario 1\n"
     ]
    },
    {
     "data": {
      "image/png": "[encoded data removed]",
      "text/plain": [
       "<Figure size 504x504 with 1 Axes>"
      ]
     },
     "metadata": {
      "needs_background": "light"
     },
     "output_type": "display_data"
    },
    {
     "name": "stdout",
     "output_type": "stream",
     "text": [
      "Scenario 2\n"
     ]
    },
    {
     "data": {
      "image/png": "[encoded data removed]",
      "text/plain": [
       "<Figure size 504x504 with 1 Axes>"
      ]
     },
     "metadata": {
      "needs_background": "light"
     },
     "output_type": "display_data"
    }
   ],
   "source": [
    "print(\"Scenario 1\")\n",
    "plot_psd_roc(psds_scenario1_s)\n",
    "\n",
    "\n",
    "print(\"Scenario 2\")\n",
    "plot_psd_roc(psds_scenario2_s)"
   ]
  },
  {
   "cell_type": "markdown",
   "metadata": {},
   "source": [
    "As we can see from the plots, scenario 2 is more permissive interms of segmentation and leads to higher PSDS than. The impact of CTC is not really obvious here. Additionaly, the impact of the relaxed constraints on the segmentation may not be affecting each class equivalently. "
   ]
  },
  {
   "cell_type": "markdown",
   "metadata": {},
   "source": [
    "### PSDS per class for Scenario 1"
   ]
  },
  {
   "cell_type": "code",
   "execution_count": 19,
   "metadata": {},
   "outputs": [
    {
     "data": {
      "image/png": "[encoded data removed]",
      "text/plain": [
       "<Figure size 1296x432 with 2 Axes>"
      ]
     },
     "metadata": {
      "needs_background": "light"
     },
     "output_type": "display_data"
    }
   ],
   "source": [
    "fig, axes = plt.subplots(1, 2, figsize=(18, 6))\n",
    "\n",
    "tpr_vs_fpr, _, _ = psds_eval_scen1.psd_roc_curves(alpha_ct=0.)\n",
    "plot_per_class_psd_roc(tpr_vs_fpr, psds_eval_scen1.class_names, axes=axes[0], title=\"Per-class TPR-vs-FPR PSDROC Scenario 1 (alpha_ct=0.)\", xlabel=\"FPR\", xlim=100)\n",
    "\n",
    "_, _, tpr_vs_efpr = psds_eval_scen1.psd_roc_curves(alpha_ct=0.5)\n",
    "plot_per_class_psd_roc(tpr_vs_efpr, psds_eval_scen1.class_names, axes=axes[1], title=\"Per-class TPR-vs-eFPR PSDROC Scenario 1 (alpha_ct=0.5)\", xlabel=\"eFPR\", xlim=100)"
   ]
  },
  {
   "cell_type": "markdown",
   "metadata": {},
   "source": [
    "### PSDS per class for Scenario 2"
   ]
  },
  {
   "cell_type": "code",
   "execution_count": 20,
   "metadata": {},
   "outputs": [
    {
     "data": {
      "image/png": "[encoded data removed]",
      "text/plain": [
       "<Figure size 1296x432 with 2 Axes>"
      ]
     },
     "metadata": {
      "needs_background": "light"
     },
     "output_type": "display_data"
    }
   ],
   "source": [
    "fig, axes = plt.subplots(1, 2, figsize=(18, 6))\n",
    "\n",
    "\n",
    "tpr_vs_fpr, _, _ = psds_eval_scen2.psd_roc_curves(alpha_ct=0.)\n",
    "plot_per_class_psd_roc(tpr_vs_fpr, psds_eval_scen2.class_names, axes=axes[0], title=\"Per-class TPR-vs-FPR PSDROC Scenario 2 (alpha_ct=0.)\", xlabel=\"FPR\", xlim=100)\n",
    "\n",
    "_, _, tpr_vs_efpr = psds_eval_scen2.psd_roc_curves(alpha_ct=0.5)\n",
    "plot_per_class_psd_roc(tpr_vs_efpr, psds_eval_scen2.class_names, axes=axes[1], title=\"Per-class TPR-vs-eFPR PSDROC Scenario 2 (alpha_ct=0.5)\", xlabel=\"eFPR\", xlim=100)"
   ]
  },
  {
   "cell_type": "markdown",
   "metadata": {},
   "source": [
    "As already seen from the PSDS scores, the performances are shifting from scenario 1 to scenario 2, with an overall increase for all the classes. \n",
    "\n",
    "In particular, the short event classes are the most affected, as it could be observed from the graphs. In fact, for classes such as `vacuul_cleaner` and `blender`, the shift is not so important compared to classes such as `dishes`, `cat` and `frying`, can see their performance increased drastically between scenario 1 and scenario 2. \n",
    "    Usually, short events are between the most difficult events to be detected, due to their shortness. As observed here and in [[3]](#References), the bad performance usually observed on short event can also be related to segmentation constraint that are too tight while computing the metric. "
   ]
  },
  {
   "cell_type": "markdown",
   "metadata": {},
   "source": [
    "## REFERENCES\n",
    "\n",
    "[1]: Mesaros, Annamaria, Toni Heittola, and Tuomas Virtanen. \"Metrics for polyphonic sound event detection.\" Applied Sciences 6.6 (2016): 162. \n",
    "URL: https://www.mdpi.com/2076-3417/6/6/162\n",
    "\n",
    "[2]: Bilen, Çağdaş, et al. \"A framework for the robust evaluation of sound event detection.\" ICASSP 2020-2020 IEEE International Conference on Acoustics, Speech and Signal Processing (ICASSP). IEEE, 2020. URL: https://arxiv.org/pdf/1910.08440.pdf\n",
    "\n",
    "[3]: Ferroni, Giacomo, et al. \"Improving sound event detection metrics: insights from dcase 2020.\" arXiv preprint arXiv:2010.13648 (2020). URL: https://arxiv.org/pdf/2010.13648.pdf\n",
    "\n",
    "[4]: URL: https://github.com/audioanalytic/psds_eval/blob/master/jupyter/psds.ipynb\n"
   ]
  }
 ],
 "metadata": {
  "kernelspec": {
   "display_name": "dcase2020",
   "language": "python",
   "name": "dcase2020"
  },
  "language_info": {
   "codemirror_mode": {
    "name": "ipython",
    "version": 3
   },
   "file_extension": ".py",
   "mimetype": "text/x-python",
   "name": "python",
   "nbconvert_exporter": "python",
   "pygments_lexer": "ipython3",
   "version": "3.6.12"
  },
  "toc": {
   "base_numbering": 1,
   "nav_menu": {},
   "number_sections": true,
   "sideBar": true,
   "skip_h1_title": false,
   "title_cell": "Table of Contents",
   "title_sidebar": "Contents",
   "toc_cell": false,
   "toc_position": {},
   "toc_section_display": true,
   "toc_window_display": false
  }
 },
 "nbformat": 4,
 "nbformat_minor": 2
}
